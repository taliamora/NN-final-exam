{
 "cells": [
  {
   "cell_type": "code",
   "execution_count": 3,
   "id": "856bf048-f563-4756-aaff-301ef5daec0e",
   "metadata": {},
   "outputs": [],
   "source": [
    "import pandas as pd\n",
    "import pandas as pd\n",
    "import numpy as np\n",
    "import tensorflow as tf\n",
    "from tensorflow import keras\n",
    "import tensorflow.keras\n",
    "from tensorflow.keras.models import Sequential"
   ]
  },
  {
   "cell_type": "markdown",
   "id": "e030d2f7-9987-4461-b851-105284c17924",
   "metadata": {},
   "source": [
    "### Neural Networks Final Exam Code\n",
    "# Part 2 | Question 1"
   ]
  },
  {
   "cell_type": "code",
   "execution_count": 12,
   "id": "afff4c24-02b6-418d-a118-b0acb9361a22",
   "metadata": {},
   "outputs": [
    {
     "name": "stdout",
     "output_type": "stream",
     "text": [
      "Model: \"sequential_6\"\n",
      "_________________________________________________________________\n",
      " Layer (type)                Output Shape              Param #   \n",
      "=================================================================\n",
      " dense_19 (Dense)            (None, 4)                 16        \n",
      "                                                                 \n",
      " dense_20 (Dense)            (None, 3)                 12        \n",
      "                                                                 \n",
      " dense_21 (Dense)            (None, 3)                 9         \n",
      "                                                                 \n",
      "=================================================================\n",
      "Total params: 37\n",
      "Trainable params: 37\n",
      "Non-trainable params: 0\n",
      "_________________________________________________________________\n"
     ]
    }
   ],
   "source": [
    "### Artificial Neural Network\n",
    "\n",
    "input_shape = (4,)\n",
    "ANN_Model = tf.keras.models.Sequential([\n",
    "    # Assume raw data is already 1D vector so no need to flatten\n",
    "    tf.keras.layers.Dense(4, input_shape=input_shape, activation= 'sigmoid', use_bias=False), # Output shape: (None, 4)\n",
    "    tf.keras.layers.Dense(3, activation= 'relu', use_bias=False), # Output shape: (None, 3)\n",
    "    tf.keras.layers.Dense(3, activation= 'softmax', use_bias=False), # Output shape: (None, 3)\n",
    "    ])\n",
    "\n",
    "ANN_Model.summary()\n",
    "\n",
    "\n",
    "ANN_Model.compile(\n",
    "    loss = \"categorical_crossentropy\", # Labels are OneHotEncoded\n",
    "    metrics=[\"accuracy\"],\n",
    "    optimizer='adam'\n",
    "    )\n"
   ]
  },
  {
   "cell_type": "markdown",
   "id": "5ea505f9-cb18-45fc-bce5-c8b143581191",
   "metadata": {},
   "source": [
    "# Part 2 | Question 2"
   ]
  },
  {
   "cell_type": "code",
   "execution_count": 14,
   "id": "5d79946b-4bb6-4af5-b030-d7ef1bf67bef",
   "metadata": {},
   "outputs": [
    {
     "name": "stdout",
     "output_type": "stream",
     "text": [
      "Model: \"sequential_7\"\n",
      "_________________________________________________________________\n",
      " Layer (type)                Output Shape              Param #   \n",
      "=================================================================\n",
      " conv2d_1 (Conv2D)           (None, 30, 30, 2)         20        \n",
      "                                                                 \n",
      " max_pooling2d_1 (MaxPooling  (None, 15, 15, 2)        0         \n",
      " 2D)                                                             \n",
      "                                                                 \n",
      " conv2d_2 (Conv2D)           (None, 15, 15, 4)         76        \n",
      "                                                                 \n",
      " max_pooling2d_2 (MaxPooling  (None, 7, 7, 4)          0         \n",
      " 2D)                                                             \n",
      "                                                                 \n",
      " flatten (Flatten)           (None, 196)               0         \n",
      "                                                                 \n",
      " dense_22 (Dense)            (None, 3)                 591       \n",
      "                                                                 \n",
      "=================================================================\n",
      "Total params: 687\n",
      "Trainable params: 687\n",
      "Non-trainable params: 0\n",
      "_________________________________________________________________\n"
     ]
    }
   ],
   "source": [
    "### Convolutional Neural Network\n",
    "\n",
    "# Takes in non-flattened data: CNN/images need spatial awarness maintained\n",
    "# {padding=\"same\" & stride=default} -> output is same size as input\n",
    "CNN_Model = tf.keras.models.Sequential([\n",
    "    # Conv2D layer - tells model to keep input in 2D (spatial image!)\n",
    "    ## Initial conv layers observe simplistic features (fewer filters)\n",
    "    tf.keras.layers.Conv2D(input_shape = (30, 30, 1), # dim of 1 image (dim1, dim2, channels))\n",
    "                           kernel_size = (3,3), #\n",
    "                           filters = 2,\n",
    "                           activation = 'relu',\n",
    "                           padding = 'same',\n",
    "                           ), # default stride = (1,1)\n",
    "    # Pooling Layers - redice dimensionality/number of parameters\n",
    "    # makes model less sensitive to minor variations or overfitting\n",
    "    tf.keras.layers.MaxPooling2D(pool_size=(2, 2)), # From 30x30 -> 15x15\n",
    "\n",
    "    tf.keras.layers.Conv2D(filters = 4, kernel_size = (3,3), activation = 'relu',\n",
    "                           padding = 'same', strides = (1,1)),\n",
    "    tf.keras.layers.MaxPooling2D(pool_size = (2,2)),\n",
    "    \n",
    "    # After spatial features are extracted: fully connected NN\n",
    "    # Pass flattened data through fully connected dense layers\n",
    "    tf.keras.layers.Flatten(),\n",
    "    tf.keras.layers.Dense(3, activation= 'softmax') # pdf across 3 possible classes\n",
    "    ])\n",
    "\n",
    "CNN_Model.summary()\n",
    "\n",
    "\n",
    "CNN_Model.compile(\n",
    "    loss = \"categorical_crossentropy\",\n",
    "    metrics=[\"accuracy\"],\n",
    "    optimizer='adam' # robust, applicable to wide range of problems\n",
    "    )"
   ]
  },
  {
   "cell_type": "code",
   "execution_count": null,
   "id": "79d364c3-4857-41ac-84d2-9957546b8fb5",
   "metadata": {},
   "outputs": [],
   "source": []
  }
 ],
 "metadata": {
  "kernelspec": {
   "display_name": "Python 3 (ipykernel)",
   "language": "python",
   "name": "python3"
  },
  "language_info": {
   "codemirror_mode": {
    "name": "ipython",
    "version": 3
   },
   "file_extension": ".py",
   "mimetype": "text/x-python",
   "name": "python",
   "nbconvert_exporter": "python",
   "pygments_lexer": "ipython3",
   "version": "3.9.18"
  }
 },
 "nbformat": 4,
 "nbformat_minor": 5
}
